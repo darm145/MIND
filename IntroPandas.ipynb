{
 "cells": [
  {
   "cell_type": "markdown",
   "metadata": {},
   "source": [
    "# dataframes panda"
   ]
  },
  {
   "cell_type": "code",
   "execution_count": 1,
   "metadata": {},
   "outputs": [],
   "source": [
    "import pandas as pd"
   ]
  },
  {
   "cell_type": "code",
   "execution_count": 2,
   "metadata": {},
   "outputs": [],
   "source": [
    "data={'primerNombre':['David','Ricardo','Daniel'],\n",
    "       'SegundoNombre':['Aurelio','Felipe','Miguel'],\n",
    "       'Estatura':[2,1.7,1.69],\n",
    "       'Estudia':[\"Si\",\"Si\",\"No\"]}"
   ]
  },
  {
   "cell_type": "code",
   "execution_count": 5,
   "metadata": {},
   "outputs": [],
   "source": [
    "#converdir diccionario en dataframe\n",
    "df=pd.DataFrame(data)\n"
   ]
  },
  {
   "cell_type": "code",
   "execution_count": 9,
   "metadata": {},
   "outputs": [
    {
     "data": {
      "text/html": [
       "<div>\n",
       "<style scoped>\n",
       "    .dataframe tbody tr th:only-of-type {\n",
       "        vertical-align: middle;\n",
       "    }\n",
       "\n",
       "    .dataframe tbody tr th {\n",
       "        vertical-align: top;\n",
       "    }\n",
       "\n",
       "    .dataframe thead th {\n",
       "        text-align: right;\n",
       "    }\n",
       "</style>\n",
       "<table border=\"1\" class=\"dataframe\">\n",
       "  <thead>\n",
       "    <tr style=\"text-align: right;\">\n",
       "      <th></th>\n",
       "      <th>primerNombre</th>\n",
       "      <th>SegundoNombre</th>\n",
       "      <th>Estatura</th>\n",
       "      <th>Estudia</th>\n",
       "    </tr>\n",
       "  </thead>\n",
       "  <tbody>\n",
       "    <tr>\n",
       "      <th>0</th>\n",
       "      <td>David</td>\n",
       "      <td>Aurelio</td>\n",
       "      <td>2.00</td>\n",
       "      <td>Si</td>\n",
       "    </tr>\n",
       "    <tr>\n",
       "      <th>1</th>\n",
       "      <td>Ricardo</td>\n",
       "      <td>Felipe</td>\n",
       "      <td>1.70</td>\n",
       "      <td>Si</td>\n",
       "    </tr>\n",
       "    <tr>\n",
       "      <th>2</th>\n",
       "      <td>Daniel</td>\n",
       "      <td>Miguel</td>\n",
       "      <td>1.69</td>\n",
       "      <td>No</td>\n",
       "    </tr>\n",
       "  </tbody>\n",
       "</table>\n",
       "</div>"
      ],
      "text/plain": [
       "  primerNombre SegundoNombre  Estatura Estudia\n",
       "0        David       Aurelio      2.00      Si\n",
       "1      Ricardo        Felipe      1.70      Si\n",
       "2       Daniel        Miguel      1.69      No"
      ]
     },
     "execution_count": 9,
     "metadata": {},
     "output_type": "execute_result"
    }
   ],
   "source": [
    "df"
   ]
  },
  {
   "cell_type": "code",
   "execution_count": 15,
   "metadata": {},
   "outputs": [],
   "source": [
    "df['Estatura_in']=df['Estatura']*39.3701"
   ]
  },
  {
   "cell_type": "code",
   "execution_count": 16,
   "metadata": {},
   "outputs": [
    {
     "data": {
      "text/html": [
       "<div>\n",
       "<style scoped>\n",
       "    .dataframe tbody tr th:only-of-type {\n",
       "        vertical-align: middle;\n",
       "    }\n",
       "\n",
       "    .dataframe tbody tr th {\n",
       "        vertical-align: top;\n",
       "    }\n",
       "\n",
       "    .dataframe thead th {\n",
       "        text-align: right;\n",
       "    }\n",
       "</style>\n",
       "<table border=\"1\" class=\"dataframe\">\n",
       "  <thead>\n",
       "    <tr style=\"text-align: right;\">\n",
       "      <th></th>\n",
       "      <th>primerNombre</th>\n",
       "      <th>SegundoNombre</th>\n",
       "      <th>Estatura</th>\n",
       "      <th>Estudia</th>\n",
       "      <th>Estatura_in</th>\n",
       "    </tr>\n",
       "  </thead>\n",
       "  <tbody>\n",
       "    <tr>\n",
       "      <th>0</th>\n",
       "      <td>David</td>\n",
       "      <td>Aurelio</td>\n",
       "      <td>2.00</td>\n",
       "      <td>Si</td>\n",
       "      <td>78.740200</td>\n",
       "    </tr>\n",
       "    <tr>\n",
       "      <th>1</th>\n",
       "      <td>Ricardo</td>\n",
       "      <td>Felipe</td>\n",
       "      <td>1.70</td>\n",
       "      <td>Si</td>\n",
       "      <td>66.929170</td>\n",
       "    </tr>\n",
       "    <tr>\n",
       "      <th>2</th>\n",
       "      <td>Daniel</td>\n",
       "      <td>Miguel</td>\n",
       "      <td>1.69</td>\n",
       "      <td>No</td>\n",
       "      <td>66.535469</td>\n",
       "    </tr>\n",
       "  </tbody>\n",
       "</table>\n",
       "</div>"
      ],
      "text/plain": [
       "  primerNombre SegundoNombre  Estatura Estudia  Estatura_in\n",
       "0        David       Aurelio      2.00      Si    78.740200\n",
       "1      Ricardo        Felipe      1.70      Si    66.929170\n",
       "2       Daniel        Miguel      1.69      No    66.535469"
      ]
     },
     "execution_count": 16,
     "metadata": {},
     "output_type": "execute_result"
    }
   ],
   "source": [
    "df"
   ]
  },
  {
   "cell_type": "code",
   "execution_count": 17,
   "metadata": {},
   "outputs": [
    {
     "data": {
      "text/plain": [
       "primerNombre      object\n",
       "SegundoNombre     object\n",
       "Estatura         float64\n",
       "Estudia           object\n",
       "Estatura_in      float64\n",
       "dtype: object"
      ]
     },
     "execution_count": 17,
     "metadata": {},
     "output_type": "execute_result"
    }
   ],
   "source": [
    "df.dtypes"
   ]
  },
  {
   "cell_type": "code",
   "execution_count": 18,
   "metadata": {},
   "outputs": [],
   "source": [
    "\n",
    "df['Estudia']=df['Estudia'].astype('category')"
   ]
  },
  {
   "cell_type": "code",
   "execution_count": 23,
   "metadata": {},
   "outputs": [
    {
     "data": {
      "text/plain": [
       "primerNombre       object\n",
       "SegundoNombre      object\n",
       "Estatura          float64\n",
       "Estudia          category\n",
       "Estatura_in       float64\n",
       "Apellidos          object\n",
       "dtype: object"
      ]
     },
     "execution_count": 23,
     "metadata": {},
     "output_type": "execute_result"
    }
   ],
   "source": [
    "df.dtypes"
   ]
  },
  {
   "cell_type": "code",
   "execution_count": 21,
   "metadata": {},
   "outputs": [],
   "source": [
    "df['Apellidos']=['Ramirez','Moreno','Bernal']"
   ]
  },
  {
   "cell_type": "code",
   "execution_count": 22,
   "metadata": {},
   "outputs": [
    {
     "data": {
      "text/html": [
       "<div>\n",
       "<style scoped>\n",
       "    .dataframe tbody tr th:only-of-type {\n",
       "        vertical-align: middle;\n",
       "    }\n",
       "\n",
       "    .dataframe tbody tr th {\n",
       "        vertical-align: top;\n",
       "    }\n",
       "\n",
       "    .dataframe thead th {\n",
       "        text-align: right;\n",
       "    }\n",
       "</style>\n",
       "<table border=\"1\" class=\"dataframe\">\n",
       "  <thead>\n",
       "    <tr style=\"text-align: right;\">\n",
       "      <th></th>\n",
       "      <th>primerNombre</th>\n",
       "      <th>SegundoNombre</th>\n",
       "      <th>Estatura</th>\n",
       "      <th>Estudia</th>\n",
       "      <th>Estatura_in</th>\n",
       "      <th>Apellidos</th>\n",
       "    </tr>\n",
       "  </thead>\n",
       "  <tbody>\n",
       "    <tr>\n",
       "      <th>0</th>\n",
       "      <td>David</td>\n",
       "      <td>Aurelio</td>\n",
       "      <td>2.00</td>\n",
       "      <td>Si</td>\n",
       "      <td>78.740200</td>\n",
       "      <td>Ramirez</td>\n",
       "    </tr>\n",
       "    <tr>\n",
       "      <th>1</th>\n",
       "      <td>Ricardo</td>\n",
       "      <td>Felipe</td>\n",
       "      <td>1.70</td>\n",
       "      <td>Si</td>\n",
       "      <td>66.929170</td>\n",
       "      <td>Moreno</td>\n",
       "    </tr>\n",
       "    <tr>\n",
       "      <th>2</th>\n",
       "      <td>Daniel</td>\n",
       "      <td>Miguel</td>\n",
       "      <td>1.69</td>\n",
       "      <td>No</td>\n",
       "      <td>66.535469</td>\n",
       "      <td>Bernal</td>\n",
       "    </tr>\n",
       "  </tbody>\n",
       "</table>\n",
       "</div>"
      ],
      "text/plain": [
       "  primerNombre SegundoNombre  Estatura Estudia  Estatura_in Apellidos\n",
       "0        David       Aurelio      2.00      Si    78.740200   Ramirez\n",
       "1      Ricardo        Felipe      1.70      Si    66.929170    Moreno\n",
       "2       Daniel        Miguel      1.69      No    66.535469    Bernal"
      ]
     },
     "execution_count": 22,
     "metadata": {},
     "output_type": "execute_result"
    }
   ],
   "source": [
    "df"
   ]
  },
  {
   "cell_type": "code",
   "execution_count": 24,
   "metadata": {},
   "outputs": [
    {
     "data": {
      "text/plain": [
       "(3, 6)"
      ]
     },
     "execution_count": 24,
     "metadata": {},
     "output_type": "execute_result"
    }
   ],
   "source": [
    "df.shape"
   ]
  },
  {
   "cell_type": "code",
   "execution_count": 25,
   "metadata": {},
   "outputs": [],
   "source": [
    "df['codigo']=[\"L1\",\"G1\",\"P1\"]"
   ]
  },
  {
   "cell_type": "code",
   "execution_count": 26,
   "metadata": {},
   "outputs": [],
   "source": [
    "df.set_index('codigo',inplace=True)"
   ]
  },
  {
   "cell_type": "code",
   "execution_count": 30,
   "metadata": {},
   "outputs": [
    {
     "data": {
      "text/html": [
       "<div>\n",
       "<style scoped>\n",
       "    .dataframe tbody tr th:only-of-type {\n",
       "        vertical-align: middle;\n",
       "    }\n",
       "\n",
       "    .dataframe tbody tr th {\n",
       "        vertical-align: top;\n",
       "    }\n",
       "\n",
       "    .dataframe thead th {\n",
       "        text-align: right;\n",
       "    }\n",
       "</style>\n",
       "<table border=\"1\" class=\"dataframe\">\n",
       "  <thead>\n",
       "    <tr style=\"text-align: right;\">\n",
       "      <th></th>\n",
       "      <th>primerNombre</th>\n",
       "      <th>SegundoNombre</th>\n",
       "      <th>Estatura</th>\n",
       "      <th>Estudia</th>\n",
       "      <th>Estatura_in</th>\n",
       "      <th>Apellidos</th>\n",
       "    </tr>\n",
       "    <tr>\n",
       "      <th>codigo</th>\n",
       "      <th></th>\n",
       "      <th></th>\n",
       "      <th></th>\n",
       "      <th></th>\n",
       "      <th></th>\n",
       "      <th></th>\n",
       "    </tr>\n",
       "  </thead>\n",
       "  <tbody>\n",
       "    <tr>\n",
       "      <th>L1</th>\n",
       "      <td>David</td>\n",
       "      <td>Aurelio</td>\n",
       "      <td>2.00</td>\n",
       "      <td>Si</td>\n",
       "      <td>78.740200</td>\n",
       "      <td>Ramirez</td>\n",
       "    </tr>\n",
       "    <tr>\n",
       "      <th>G1</th>\n",
       "      <td>Ricardo</td>\n",
       "      <td>Felipe</td>\n",
       "      <td>1.70</td>\n",
       "      <td>Si</td>\n",
       "      <td>66.929170</td>\n",
       "      <td>Moreno</td>\n",
       "    </tr>\n",
       "    <tr>\n",
       "      <th>P1</th>\n",
       "      <td>Daniel</td>\n",
       "      <td>Miguel</td>\n",
       "      <td>1.69</td>\n",
       "      <td>No</td>\n",
       "      <td>66.535469</td>\n",
       "      <td>Bernal</td>\n",
       "    </tr>\n",
       "  </tbody>\n",
       "</table>\n",
       "</div>"
      ],
      "text/plain": [
       "       primerNombre SegundoNombre  Estatura Estudia  Estatura_in Apellidos\n",
       "codigo                                                                    \n",
       "L1            David       Aurelio      2.00      Si    78.740200   Ramirez\n",
       "G1          Ricardo        Felipe      1.70      Si    66.929170    Moreno\n",
       "P1           Daniel        Miguel      1.69      No    66.535469    Bernal"
      ]
     },
     "execution_count": 30,
     "metadata": {},
     "output_type": "execute_result"
    }
   ],
   "source": [
    "df"
   ]
  },
  {
   "cell_type": "code",
   "execution_count": 34,
   "metadata": {},
   "outputs": [
    {
     "data": {
      "text/html": [
       "<div>\n",
       "<style scoped>\n",
       "    .dataframe tbody tr th:only-of-type {\n",
       "        vertical-align: middle;\n",
       "    }\n",
       "\n",
       "    .dataframe tbody tr th {\n",
       "        vertical-align: top;\n",
       "    }\n",
       "\n",
       "    .dataframe thead th {\n",
       "        text-align: right;\n",
       "    }\n",
       "</style>\n",
       "<table border=\"1\" class=\"dataframe\">\n",
       "  <thead>\n",
       "    <tr style=\"text-align: right;\">\n",
       "      <th></th>\n",
       "      <th>primerNombre</th>\n",
       "      <th>SegundoNombre</th>\n",
       "      <th>Estatura</th>\n",
       "      <th>Estudia</th>\n",
       "      <th>Estatura_in</th>\n",
       "      <th>Apellidos</th>\n",
       "    </tr>\n",
       "    <tr>\n",
       "      <th>codigo</th>\n",
       "      <th></th>\n",
       "      <th></th>\n",
       "      <th></th>\n",
       "      <th></th>\n",
       "      <th></th>\n",
       "      <th></th>\n",
       "    </tr>\n",
       "  </thead>\n",
       "  <tbody>\n",
       "    <tr>\n",
       "      <th>L1</th>\n",
       "      <td>David</td>\n",
       "      <td>Aurelio</td>\n",
       "      <td>2.00</td>\n",
       "      <td>Si</td>\n",
       "      <td>78.740200</td>\n",
       "      <td>Ramirez</td>\n",
       "    </tr>\n",
       "    <tr>\n",
       "      <th>G1</th>\n",
       "      <td>Ricardo</td>\n",
       "      <td>Felipe</td>\n",
       "      <td>1.70</td>\n",
       "      <td>Si</td>\n",
       "      <td>66.929170</td>\n",
       "      <td>Moreno</td>\n",
       "    </tr>\n",
       "    <tr>\n",
       "      <th>P1</th>\n",
       "      <td>Daniel</td>\n",
       "      <td>Miguel</td>\n",
       "      <td>1.69</td>\n",
       "      <td>No</td>\n",
       "      <td>66.535469</td>\n",
       "      <td>Bernal</td>\n",
       "    </tr>\n",
       "  </tbody>\n",
       "</table>\n",
       "</div>"
      ],
      "text/plain": [
       "       primerNombre SegundoNombre  Estatura Estudia  Estatura_in Apellidos\n",
       "codigo                                                                    \n",
       "L1            David       Aurelio      2.00      Si    78.740200   Ramirez\n",
       "G1          Ricardo        Felipe      1.70      Si    66.929170    Moreno\n",
       "P1           Daniel        Miguel      1.69      No    66.535469    Bernal"
      ]
     },
     "execution_count": 34,
     "metadata": {},
     "output_type": "execute_result"
    }
   ],
   "source": [
    "#dropear una columna, axis ->especificar si es fila o columna\n",
    "df.drop(['codigo2'],axis=1)"
   ]
  },
  {
   "cell_type": "code",
   "execution_count": 35,
   "metadata": {},
   "outputs": [],
   "source": [
    "df.to_excel('datos.xlsx',sheet_name='Datos')\n",
    "df.to_csv('Datos.csv')"
   ]
  },
  {
   "cell_type": "code",
   "execution_count": 39,
   "metadata": {},
   "outputs": [],
   "source": [
    "df=df.drop(['codigo2'],axis=1)"
   ]
  },
  {
   "cell_type": "code",
   "execution_count": 40,
   "metadata": {},
   "outputs": [
    {
     "data": {
      "text/html": [
       "<div>\n",
       "<style scoped>\n",
       "    .dataframe tbody tr th:only-of-type {\n",
       "        vertical-align: middle;\n",
       "    }\n",
       "\n",
       "    .dataframe tbody tr th {\n",
       "        vertical-align: top;\n",
       "    }\n",
       "\n",
       "    .dataframe thead th {\n",
       "        text-align: right;\n",
       "    }\n",
       "</style>\n",
       "<table border=\"1\" class=\"dataframe\">\n",
       "  <thead>\n",
       "    <tr style=\"text-align: right;\">\n",
       "      <th></th>\n",
       "      <th>primerNombre</th>\n",
       "      <th>SegundoNombre</th>\n",
       "      <th>Estatura</th>\n",
       "      <th>Estudia</th>\n",
       "      <th>Estatura_in</th>\n",
       "      <th>Apellidos</th>\n",
       "    </tr>\n",
       "    <tr>\n",
       "      <th>codigo</th>\n",
       "      <th></th>\n",
       "      <th></th>\n",
       "      <th></th>\n",
       "      <th></th>\n",
       "      <th></th>\n",
       "      <th></th>\n",
       "    </tr>\n",
       "  </thead>\n",
       "  <tbody>\n",
       "    <tr>\n",
       "      <th>L1</th>\n",
       "      <td>David</td>\n",
       "      <td>Aurelio</td>\n",
       "      <td>2.00</td>\n",
       "      <td>Si</td>\n",
       "      <td>78.740200</td>\n",
       "      <td>Ramirez</td>\n",
       "    </tr>\n",
       "    <tr>\n",
       "      <th>G1</th>\n",
       "      <td>Ricardo</td>\n",
       "      <td>Felipe</td>\n",
       "      <td>1.70</td>\n",
       "      <td>Si</td>\n",
       "      <td>66.929170</td>\n",
       "      <td>Moreno</td>\n",
       "    </tr>\n",
       "    <tr>\n",
       "      <th>P1</th>\n",
       "      <td>Daniel</td>\n",
       "      <td>Miguel</td>\n",
       "      <td>1.69</td>\n",
       "      <td>No</td>\n",
       "      <td>66.535469</td>\n",
       "      <td>Bernal</td>\n",
       "    </tr>\n",
       "  </tbody>\n",
       "</table>\n",
       "</div>"
      ],
      "text/plain": [
       "       primerNombre SegundoNombre  Estatura Estudia  Estatura_in Apellidos\n",
       "codigo                                                                    \n",
       "L1            David       Aurelio      2.00      Si    78.740200   Ramirez\n",
       "G1          Ricardo        Felipe      1.70      Si    66.929170    Moreno\n",
       "P1           Daniel        Miguel      1.69      No    66.535469    Bernal"
      ]
     },
     "execution_count": 40,
     "metadata": {},
     "output_type": "execute_result"
    }
   ],
   "source": [
    "df"
   ]
  },
  {
   "cell_type": "code",
   "execution_count": 41,
   "metadata": {},
   "outputs": [
    {
     "data": {
      "text/plain": [
       "primerNombre     Ricardo\n",
       "SegundoNombre     Felipe\n",
       "Estatura             1.7\n",
       "Estudia               Si\n",
       "Estatura_in      66.9292\n",
       "Apellidos         Moreno\n",
       "Name: G1, dtype: object"
      ]
     },
     "execution_count": 41,
     "metadata": {},
     "output_type": "execute_result"
    }
   ],
   "source": [
    "df.iloc[1]"
   ]
  },
  {
   "cell_type": "code",
   "execution_count": 42,
   "metadata": {},
   "outputs": [
    {
     "data": {
      "text/plain": [
       "primerNombre     Ricardo\n",
       "SegundoNombre     Felipe\n",
       "Estatura             1.7\n",
       "Estudia               Si\n",
       "Estatura_in      66.9292\n",
       "Apellidos         Moreno\n",
       "Name: G1, dtype: object"
      ]
     },
     "execution_count": 42,
     "metadata": {},
     "output_type": "execute_result"
    }
   ],
   "source": [
    "df.loc['G1']"
   ]
  },
  {
   "cell_type": "code",
   "execution_count": 43,
   "metadata": {},
   "outputs": [
    {
     "data": {
      "text/plain": [
       "'Si'"
      ]
     },
     "execution_count": 43,
     "metadata": {},
     "output_type": "execute_result"
    }
   ],
   "source": [
    "df.loc['G1','Estudia']"
   ]
  },
  {
   "cell_type": "code",
   "execution_count": 44,
   "metadata": {},
   "outputs": [
    {
     "data": {
      "text/html": [
       "<div>\n",
       "<style scoped>\n",
       "    .dataframe tbody tr th:only-of-type {\n",
       "        vertical-align: middle;\n",
       "    }\n",
       "\n",
       "    .dataframe tbody tr th {\n",
       "        vertical-align: top;\n",
       "    }\n",
       "\n",
       "    .dataframe thead th {\n",
       "        text-align: right;\n",
       "    }\n",
       "</style>\n",
       "<table border=\"1\" class=\"dataframe\">\n",
       "  <thead>\n",
       "    <tr style=\"text-align: right;\">\n",
       "      <th></th>\n",
       "      <th>primerNombre</th>\n",
       "      <th>SegundoNombre</th>\n",
       "      <th>Estatura</th>\n",
       "      <th>Estudia</th>\n",
       "      <th>Estatura_in</th>\n",
       "      <th>Apellidos</th>\n",
       "    </tr>\n",
       "    <tr>\n",
       "      <th>codigo</th>\n",
       "      <th></th>\n",
       "      <th></th>\n",
       "      <th></th>\n",
       "      <th></th>\n",
       "      <th></th>\n",
       "      <th></th>\n",
       "    </tr>\n",
       "  </thead>\n",
       "  <tbody>\n",
       "    <tr>\n",
       "      <th>G1</th>\n",
       "      <td>Ricardo</td>\n",
       "      <td>Felipe</td>\n",
       "      <td>1.70</td>\n",
       "      <td>Si</td>\n",
       "      <td>66.929170</td>\n",
       "      <td>Moreno</td>\n",
       "    </tr>\n",
       "    <tr>\n",
       "      <th>L1</th>\n",
       "      <td>David</td>\n",
       "      <td>Aurelio</td>\n",
       "      <td>2.00</td>\n",
       "      <td>Si</td>\n",
       "      <td>78.740200</td>\n",
       "      <td>Ramirez</td>\n",
       "    </tr>\n",
       "    <tr>\n",
       "      <th>P1</th>\n",
       "      <td>Daniel</td>\n",
       "      <td>Miguel</td>\n",
       "      <td>1.69</td>\n",
       "      <td>No</td>\n",
       "      <td>66.535469</td>\n",
       "      <td>Bernal</td>\n",
       "    </tr>\n",
       "  </tbody>\n",
       "</table>\n",
       "</div>"
      ],
      "text/plain": [
       "       primerNombre SegundoNombre  Estatura Estudia  Estatura_in Apellidos\n",
       "codigo                                                                    \n",
       "G1          Ricardo        Felipe      1.70      Si    66.929170    Moreno\n",
       "L1            David       Aurelio      2.00      Si    78.740200   Ramirez\n",
       "P1           Daniel        Miguel      1.69      No    66.535469    Bernal"
      ]
     },
     "execution_count": 44,
     "metadata": {},
     "output_type": "execute_result"
    }
   ],
   "source": [
    "df.sort_index()"
   ]
  },
  {
   "cell_type": "code",
   "execution_count": 45,
   "metadata": {},
   "outputs": [
    {
     "data": {
      "text/html": [
       "<div>\n",
       "<style scoped>\n",
       "    .dataframe tbody tr th:only-of-type {\n",
       "        vertical-align: middle;\n",
       "    }\n",
       "\n",
       "    .dataframe tbody tr th {\n",
       "        vertical-align: top;\n",
       "    }\n",
       "\n",
       "    .dataframe thead th {\n",
       "        text-align: right;\n",
       "    }\n",
       "</style>\n",
       "<table border=\"1\" class=\"dataframe\">\n",
       "  <thead>\n",
       "    <tr style=\"text-align: right;\">\n",
       "      <th></th>\n",
       "      <th>primerNombre</th>\n",
       "      <th>SegundoNombre</th>\n",
       "      <th>Estatura</th>\n",
       "      <th>Estudia</th>\n",
       "      <th>Estatura_in</th>\n",
       "      <th>Apellidos</th>\n",
       "    </tr>\n",
       "    <tr>\n",
       "      <th>codigo</th>\n",
       "      <th></th>\n",
       "      <th></th>\n",
       "      <th></th>\n",
       "      <th></th>\n",
       "      <th></th>\n",
       "      <th></th>\n",
       "    </tr>\n",
       "  </thead>\n",
       "  <tbody>\n",
       "    <tr>\n",
       "      <th>P1</th>\n",
       "      <td>Daniel</td>\n",
       "      <td>Miguel</td>\n",
       "      <td>1.69</td>\n",
       "      <td>No</td>\n",
       "      <td>66.535469</td>\n",
       "      <td>Bernal</td>\n",
       "    </tr>\n",
       "    <tr>\n",
       "      <th>L1</th>\n",
       "      <td>David</td>\n",
       "      <td>Aurelio</td>\n",
       "      <td>2.00</td>\n",
       "      <td>Si</td>\n",
       "      <td>78.740200</td>\n",
       "      <td>Ramirez</td>\n",
       "    </tr>\n",
       "    <tr>\n",
       "      <th>G1</th>\n",
       "      <td>Ricardo</td>\n",
       "      <td>Felipe</td>\n",
       "      <td>1.70</td>\n",
       "      <td>Si</td>\n",
       "      <td>66.929170</td>\n",
       "      <td>Moreno</td>\n",
       "    </tr>\n",
       "  </tbody>\n",
       "</table>\n",
       "</div>"
      ],
      "text/plain": [
       "       primerNombre SegundoNombre  Estatura Estudia  Estatura_in Apellidos\n",
       "codigo                                                                    \n",
       "P1           Daniel        Miguel      1.69      No    66.535469    Bernal\n",
       "L1            David       Aurelio      2.00      Si    78.740200   Ramirez\n",
       "G1          Ricardo        Felipe      1.70      Si    66.929170    Moreno"
      ]
     },
     "execution_count": 45,
     "metadata": {},
     "output_type": "execute_result"
    }
   ],
   "source": [
    "df.sort_index(ascending=False)"
   ]
  },
  {
   "cell_type": "code",
   "execution_count": 50,
   "metadata": {},
   "outputs": [
    {
     "data": {
      "text/html": [
       "<div>\n",
       "<style scoped>\n",
       "    .dataframe tbody tr th:only-of-type {\n",
       "        vertical-align: middle;\n",
       "    }\n",
       "\n",
       "    .dataframe tbody tr th {\n",
       "        vertical-align: top;\n",
       "    }\n",
       "\n",
       "    .dataframe thead th {\n",
       "        text-align: right;\n",
       "    }\n",
       "</style>\n",
       "<table border=\"1\" class=\"dataframe\">\n",
       "  <thead>\n",
       "    <tr style=\"text-align: right;\">\n",
       "      <th></th>\n",
       "      <th>primerNombre</th>\n",
       "      <th>SegundoNombre</th>\n",
       "      <th>Estatura</th>\n",
       "      <th>Estudia</th>\n",
       "      <th>Estatura_in</th>\n",
       "      <th>Apellidos</th>\n",
       "    </tr>\n",
       "    <tr>\n",
       "      <th>codigo</th>\n",
       "      <th></th>\n",
       "      <th></th>\n",
       "      <th></th>\n",
       "      <th></th>\n",
       "      <th></th>\n",
       "      <th></th>\n",
       "    </tr>\n",
       "  </thead>\n",
       "  <tbody>\n",
       "    <tr>\n",
       "      <th>L1</th>\n",
       "      <td>David</td>\n",
       "      <td>Aurelio</td>\n",
       "      <td>2.00</td>\n",
       "      <td>Si</td>\n",
       "      <td>78.740200</td>\n",
       "      <td>Ramirez</td>\n",
       "    </tr>\n",
       "    <tr>\n",
       "      <th>G1</th>\n",
       "      <td>Ricardo</td>\n",
       "      <td>Felipe</td>\n",
       "      <td>1.70</td>\n",
       "      <td>Si</td>\n",
       "      <td>66.929170</td>\n",
       "      <td>Moreno</td>\n",
       "    </tr>\n",
       "    <tr>\n",
       "      <th>P1</th>\n",
       "      <td>Daniel</td>\n",
       "      <td>Miguel</td>\n",
       "      <td>1.69</td>\n",
       "      <td>No</td>\n",
       "      <td>66.535469</td>\n",
       "      <td>Bernal</td>\n",
       "    </tr>\n",
       "  </tbody>\n",
       "</table>\n",
       "</div>"
      ],
      "text/plain": [
       "       primerNombre SegundoNombre  Estatura Estudia  Estatura_in Apellidos\n",
       "codigo                                                                    \n",
       "L1            David       Aurelio      2.00      Si    78.740200   Ramirez\n",
       "G1          Ricardo        Felipe      1.70      Si    66.929170    Moreno\n",
       "P1           Daniel        Miguel      1.69      No    66.535469    Bernal"
      ]
     },
     "execution_count": 50,
     "metadata": {},
     "output_type": "execute_result"
    }
   ],
   "source": [
    "df.sort_values(by=['Estatura'],ascending=False)"
   ]
  },
  {
   "cell_type": "code",
   "execution_count": 53,
   "metadata": {},
   "outputs": [
    {
     "data": {
      "text/html": [
       "<div>\n",
       "<style scoped>\n",
       "    .dataframe tbody tr th:only-of-type {\n",
       "        vertical-align: middle;\n",
       "    }\n",
       "\n",
       "    .dataframe tbody tr th {\n",
       "        vertical-align: top;\n",
       "    }\n",
       "\n",
       "    .dataframe thead th {\n",
       "        text-align: right;\n",
       "    }\n",
       "</style>\n",
       "<table border=\"1\" class=\"dataframe\">\n",
       "  <thead>\n",
       "    <tr style=\"text-align: right;\">\n",
       "      <th></th>\n",
       "      <th>primerNombre</th>\n",
       "      <th>SegundoNombre</th>\n",
       "      <th>Estatura</th>\n",
       "      <th>Estudia</th>\n",
       "      <th>Estatura_in</th>\n",
       "      <th>Apellidos</th>\n",
       "    </tr>\n",
       "    <tr>\n",
       "      <th>codigo</th>\n",
       "      <th></th>\n",
       "      <th></th>\n",
       "      <th></th>\n",
       "      <th></th>\n",
       "      <th></th>\n",
       "      <th></th>\n",
       "    </tr>\n",
       "  </thead>\n",
       "  <tbody>\n",
       "    <tr>\n",
       "      <th>P1</th>\n",
       "      <td>Daniel</td>\n",
       "      <td>Miguel</td>\n",
       "      <td>1.69</td>\n",
       "      <td>No</td>\n",
       "      <td>66.535469</td>\n",
       "      <td>Bernal</td>\n",
       "    </tr>\n",
       "  </tbody>\n",
       "</table>\n",
       "</div>"
      ],
      "text/plain": [
       "       primerNombre SegundoNombre  Estatura Estudia  Estatura_in Apellidos\n",
       "codigo                                                                    \n",
       "P1           Daniel        Miguel      1.69      No    66.535469    Bernal"
      ]
     },
     "execution_count": 53,
     "metadata": {},
     "output_type": "execute_result"
    }
   ],
   "source": [
    "filtro=df['Estudia']==\"Si\"\n",
    "df[~filtro]"
   ]
  },
  {
   "cell_type": "code",
   "execution_count": 56,
   "metadata": {},
   "outputs": [
    {
     "data": {
      "text/html": [
       "<div>\n",
       "<style scoped>\n",
       "    .dataframe tbody tr th:only-of-type {\n",
       "        vertical-align: middle;\n",
       "    }\n",
       "\n",
       "    .dataframe tbody tr th {\n",
       "        vertical-align: top;\n",
       "    }\n",
       "\n",
       "    .dataframe thead th {\n",
       "        text-align: right;\n",
       "    }\n",
       "</style>\n",
       "<table border=\"1\" class=\"dataframe\">\n",
       "  <thead>\n",
       "    <tr style=\"text-align: right;\">\n",
       "      <th></th>\n",
       "      <th>primerNombre</th>\n",
       "      <th>SegundoNombre</th>\n",
       "      <th>Estatura</th>\n",
       "      <th>Estudia</th>\n",
       "      <th>Estatura_in</th>\n",
       "      <th>Apellidos</th>\n",
       "    </tr>\n",
       "    <tr>\n",
       "      <th>codigo</th>\n",
       "      <th></th>\n",
       "      <th></th>\n",
       "      <th></th>\n",
       "      <th></th>\n",
       "      <th></th>\n",
       "      <th></th>\n",
       "    </tr>\n",
       "  </thead>\n",
       "  <tbody>\n",
       "    <tr>\n",
       "      <th>L1</th>\n",
       "      <td>David</td>\n",
       "      <td>Aurelio</td>\n",
       "      <td>2.0</td>\n",
       "      <td>Si</td>\n",
       "      <td>78.7402</td>\n",
       "      <td>Ramirez</td>\n",
       "    </tr>\n",
       "  </tbody>\n",
       "</table>\n",
       "</div>"
      ],
      "text/plain": [
       "       primerNombre SegundoNombre  Estatura Estudia  Estatura_in Apellidos\n",
       "codigo                                                                    \n",
       "L1            David       Aurelio       2.0      Si      78.7402   Ramirez"
      ]
     },
     "execution_count": 56,
     "metadata": {},
     "output_type": "execute_result"
    }
   ],
   "source": [
    "filtro2=(df['Estudia']==\"Si\") & (df['Estatura']>1.70)\n",
    "df[filtro2]"
   ]
  }
 ],
 "metadata": {
  "kernelspec": {
   "display_name": "Python 3",
   "language": "python",
   "name": "python3"
  },
  "language_info": {
   "codemirror_mode": {
    "name": "ipython",
    "version": 3
   },
   "file_extension": ".py",
   "mimetype": "text/x-python",
   "name": "python",
   "nbconvert_exporter": "python",
   "pygments_lexer": "ipython3",
   "version": "3.7.0"
  }
 },
 "nbformat": 4,
 "nbformat_minor": 2
}
